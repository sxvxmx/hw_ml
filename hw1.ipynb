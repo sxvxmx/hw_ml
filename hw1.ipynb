{
 "cells": [
  {
   "cell_type": "code",
   "execution_count": 61,
   "metadata": {},
   "outputs": [],
   "source": [
    "import numpy as np\n",
    "import pandas as pd\n",
    "import seaborn as sns\n",
    "import matplotlib.pyplot as plt\n",
    "import seaborn as sns\n",
    "\n",
    "np.random.seed(1)"
   ]
  },
  {
   "cell_type": "code",
   "execution_count": 62,
   "metadata": {},
   "outputs": [],
   "source": [
    "data = pd.read_csv(\"data/datahw1.csv\")"
   ]
  },
  {
   "cell_type": "code",
   "execution_count": 63,
   "metadata": {},
   "outputs": [
    {
     "data": {
      "text/html": [
       "<div>\n",
       "<style scoped>\n",
       "    .dataframe tbody tr th:only-of-type {\n",
       "        vertical-align: middle;\n",
       "    }\n",
       "\n",
       "    .dataframe tbody tr th {\n",
       "        vertical-align: top;\n",
       "    }\n",
       "\n",
       "    .dataframe thead th {\n",
       "        text-align: right;\n",
       "    }\n",
       "</style>\n",
       "<table border=\"1\" class=\"dataframe\">\n",
       "  <thead>\n",
       "    <tr style=\"text-align: right;\">\n",
       "      <th></th>\n",
       "      <th>x1</th>\n",
       "      <th>x2</th>\n",
       "      <th>x3</th>\n",
       "      <th>x4</th>\n",
       "    </tr>\n",
       "  </thead>\n",
       "  <tbody>\n",
       "    <tr>\n",
       "      <th>0</th>\n",
       "      <td>0.000000</td>\n",
       "      <td>3.440000</td>\n",
       "      <td>0.440000</td>\n",
       "      <td>4.387545</td>\n",
       "    </tr>\n",
       "    <tr>\n",
       "      <th>1</th>\n",
       "      <td>0.040404</td>\n",
       "      <td>0.134949</td>\n",
       "      <td>0.888485</td>\n",
       "      <td>2.679650</td>\n",
       "    </tr>\n",
       "    <tr>\n",
       "      <th>2</th>\n",
       "      <td>0.080808</td>\n",
       "      <td>0.829899</td>\n",
       "      <td>1.336970</td>\n",
       "      <td>2.968490</td>\n",
       "    </tr>\n",
       "    <tr>\n",
       "      <th>3</th>\n",
       "      <td>0.121212</td>\n",
       "      <td>1.524848</td>\n",
       "      <td>1.785455</td>\n",
       "      <td>3.254065</td>\n",
       "    </tr>\n",
       "    <tr>\n",
       "      <th>4</th>\n",
       "      <td>0.161616</td>\n",
       "      <td>2.219798</td>\n",
       "      <td>2.233939</td>\n",
       "      <td>3.536375</td>\n",
       "    </tr>\n",
       "  </tbody>\n",
       "</table>\n",
       "</div>"
      ],
      "text/plain": [
       "         x1        x2        x3        x4\n",
       "0  0.000000  3.440000  0.440000  4.387545\n",
       "1  0.040404  0.134949  0.888485  2.679650\n",
       "2  0.080808  0.829899  1.336970  2.968490\n",
       "3  0.121212  1.524848  1.785455  3.254065\n",
       "4  0.161616  2.219798  2.233939  3.536375"
      ]
     },
     "execution_count": 63,
     "metadata": {},
     "output_type": "execute_result"
    }
   ],
   "source": [
    "data.head()"
   ]
  },
  {
   "cell_type": "markdown",
   "metadata": {},
   "source": [
    "## Task1-2"
   ]
  },
  {
   "cell_type": "markdown",
   "metadata": {},
   "source": [
    "Фукнции запускаются на 3х переменных, но можно убрать лишние, чтобы обучить на каждой (опущено чтобы не перегружать)"
   ]
  },
  {
   "cell_type": "markdown",
   "metadata": {},
   "source": [
    "Пример для каждой: (Далее все 3)"
   ]
  },
  {
   "cell_type": "markdown",
   "metadata": {},
   "source": [
    "### a"
   ]
  },
  {
   "cell_type": "code",
   "execution_count": 64,
   "metadata": {},
   "outputs": [
    {
     "name": "stdout",
     "output_type": "stream",
     "text": [
      "x1 score: 1.9699861650978636\n",
      "x2 score: 7.198732036355394\n",
      "x3 score: 7.2589022492543345\n"
     ]
    }
   ],
   "source": [
    "from sklearn.linear_model import LinearRegression\n",
    "from sklearn.metrics import mean_squared_error\n",
    "\n",
    "for i in data.columns:\n",
    "    if i != 'x4':\n",
    "        x = pd.DataFrame(data[i])\n",
    "        y = data['x4']\n",
    "        lr = LinearRegression()\n",
    "        lr.fit(x,y)\n",
    "        print(f\"{i} score: {mean_squared_error(lr.predict(x),y)}\") "
   ]
  },
  {
   "cell_type": "markdown",
   "metadata": {},
   "source": [
    "### b"
   ]
  },
  {
   "cell_type": "code",
   "execution_count": 65,
   "metadata": {},
   "outputs": [],
   "source": [
    "from sklearn.model_selection import cross_validate\n",
    "from sklearn.metrics import make_scorer\n",
    "\n",
    "def cross(model, X, y):\n",
    "    scoring = {'mse': make_scorer(mean_squared_error)}\n",
    "    return cross_validate(model,X,y,scoring=scoring, cv=5)"
   ]
  },
  {
   "cell_type": "code",
   "execution_count": 66,
   "metadata": {},
   "outputs": [
    {
     "name": "stdout",
     "output_type": "stream",
     "text": [
      "[11.55835454  0.97973973  2.65880839  0.95970428 11.61723943]\n"
     ]
    }
   ],
   "source": [
    "crs = cross(LinearRegression(), data.drop('x4',axis=1), data['x4'])\n",
    "print(crs[\"test_mse\"])"
   ]
  },
  {
   "cell_type": "code",
   "execution_count": 67,
   "metadata": {},
   "outputs": [
    {
     "data": {
      "text/plain": [
       "count    100.000000\n",
       "mean       1.851276\n",
       "std        2.774643\n",
       "min       -5.332455\n",
       "25%        0.527533\n",
       "50%        2.879003\n",
       "75%        3.925389\n",
       "max        5.545892\n",
       "Name: x4, dtype: float64"
      ]
     },
     "execution_count": 67,
     "metadata": {},
     "output_type": "execute_result"
    }
   ],
   "source": [
    "data['x4'].describe()"
   ]
  },
  {
   "cell_type": "markdown",
   "metadata": {},
   "source": [
    "Неплохая квадратичная ошибка, линейная регрессия имеет хорошую генерализацию в общем, но в данном случае видим промежутки из cv, где модель сравляется явно лучше."
   ]
  },
  {
   "cell_type": "markdown",
   "metadata": {},
   "source": [
    "### c"
   ]
  },
  {
   "cell_type": "code",
   "execution_count": 68,
   "metadata": {},
   "outputs": [],
   "source": [
    "from sklearn.preprocessing import PolynomialFeatures\n",
    "from mlxtend.evaluate import bias_variance_decomp\n",
    "from sklearn.model_selection import train_test_split\n",
    "\n",
    "def poly(model,X,y):\n",
    "    meta = []\n",
    "    for deg in range(1,6):\n",
    "        poly_features = PolynomialFeatures(degree=deg)\n",
    "        X_poly = poly_features.fit_transform(X)\n",
    "        X_train, X_test, y_train, y_test = train_test_split(X_poly, y, test_size=0.2, random_state=1)\n",
    "        mse, bias, var = bias_variance_decomp(\n",
    "            model, X_train, y_train.values, X_test, y_test.values, loss='mse', num_rounds=100, random_seed=11\n",
    "            )\n",
    "        meta.append((deg, bias, var))\n",
    "    return meta"
   ]
  },
  {
   "cell_type": "code",
   "execution_count": 69,
   "metadata": {},
   "outputs": [],
   "source": [
    "def poly_cv(model,X,y):\n",
    "    meta = []\n",
    "    for deg in range(1,6):\n",
    "        poly_features = PolynomialFeatures(degree=deg)\n",
    "        X_poly = poly_features.fit_transform(X)\n",
    "        cv = cross_validate(model,X_poly,y,cv=10,scoring=\"neg_mean_squared_error\")\n",
    "        bias = np.mean(-cv[\"test_score\"])\n",
    "        var = np.var(-cv[\"test_score\"])\n",
    "        meta.append((deg, bias, var))\n",
    "    return meta"
   ]
  },
  {
   "cell_type": "code",
   "execution_count": 70,
   "metadata": {},
   "outputs": [],
   "source": [
    "def draw_bv(model,X,y):\n",
    "    sub = poly(model, X,y)\n",
    "    sns.lineplot(x=[i[0] for i in sub], y=[i[1] for i in sub],label=\"bias\")\n",
    "    sns.lineplot(x=[i[0] for i in sub], y=[i[2] for i in sub],label=\"var\")\n",
    "    plt.plot()"
   ]
  },
  {
   "cell_type": "code",
   "execution_count": 71,
   "metadata": {},
   "outputs": [],
   "source": [
    "def draw_bv_my(meta):\n",
    "    sns.lineplot(x=[i[0] for i in meta], y=[i[1] for i in meta],label=\"bias\")\n",
    "    sns.lineplot(x=[i[0] for i in meta], y=[i[2] for i in meta],label=\"var\")\n",
    "    plt.plot()"
   ]
  },
  {
   "cell_type": "markdown",
   "metadata": {},
   "source": [
    "Библиотечный график"
   ]
  },
  {
   "cell_type": "code",
   "execution_count": 72,
   "metadata": {},
   "outputs": [
    {
     "data": {
      "image/png": "[encoded data removed]",
      "text/plain": [
       "<Figure size 640x480 with 1 Axes>"
      ]
     },
     "metadata": {},
     "output_type": "display_data"
    }
   ],
   "source": [
    "model = LinearRegression()\n",
    "draw_bv(model, data.drop('x4',axis=1), data['x4'])"
   ]
  },
  {
   "cell_type": "markdown",
   "metadata": {},
   "source": [
    "График на кросс валидации от mse"
   ]
  },
  {
   "cell_type": "code",
   "execution_count": 73,
   "metadata": {},
   "outputs": [
    {
     "data": {
      "image/png": "[encoded data removed]",
      "text/plain": [
       "<Figure size 640x480 with 1 Axes>"
      ]
     },
     "metadata": {},
     "output_type": "display_data"
    }
   ],
   "source": [
    "meta = poly_cv(model, data.drop('x4',axis=1), data['x4'])\n",
    "draw_bv_my(meta)"
   ]
  },
  {
   "cell_type": "markdown",
   "metadata": {},
   "source": [
    "Лучшая степень 2"
   ]
  },
  {
   "cell_type": "markdown",
   "metadata": {},
   "source": [
    "### d"
   ]
  },
  {
   "cell_type": "code",
   "execution_count": 74,
   "metadata": {},
   "outputs": [],
   "source": [
    "from sklearn.model_selection import train_test_split\n",
    "from sklearn.model_selection import KFold\n",
    "\n",
    "def kfld(X,y):\n",
    "    X_fold, X_test, y_fold, y_test = train_test_split(X,y, test_size=0.3, random_state=1)\n",
    "    kfld = KFold(n_splits=5)\n",
    "    score = 4214124\n",
    "    degree = 0\n",
    "    for deg in range(1,10):\n",
    "        for i, (train_index, test_index) in enumerate(kfld.split(X_fold, y_fold)):\n",
    "            model = LinearRegression()\n",
    "            model.fit(PolynomialFeatures(degree).fit_transform(X_fold.iloc[train_index]), y_fold.iloc[train_index])\n",
    "            scr = mean_squared_error(model.predict(PolynomialFeatures(degree).fit_transform(X_fold.iloc[test_index])), y_fold.iloc[test_index])\n",
    "            if scr <= score:\n",
    "                score = scr\n",
    "                degree = deg\n",
    "        print(f\"degree: {deg} lowest_mse: {score} deg_mse: {scr}\")\n",
    "\n",
    "    model = LinearRegression()\n",
    "    X_poly = PolynomialFeatures(degree).fit_transform(X_test)\n",
    "    model.fit(X_poly, y_test)\n",
    "    \n",
    "    score = mean_squared_error(model.predict(X_poly), y_test)\n",
    "    return (score, degree)"
   ]
  },
  {
   "cell_type": "code",
   "execution_count": 75,
   "metadata": {},
   "outputs": [
    {
     "name": "stdout",
     "output_type": "stream",
     "text": [
      "degree: 1 lowest_mse: 1.4582272221610886 deg_mse: 1.6586362375718238\n",
      "degree: 2 lowest_mse: 3.540277439714521e-29 deg_mse: 3.540277439714521e-29\n",
      "degree: 3 lowest_mse: 1.5189094125974213e-29 deg_mse: 1.212160497432184e-28\n",
      "degree: 4 lowest_mse: 1.5189094125974213e-29 deg_mse: 1.212160497432184e-28\n",
      "degree: 5 lowest_mse: 1.5189094125974213e-29 deg_mse: 1.212160497432184e-28\n",
      "degree: 6 lowest_mse: 1.5189094125974213e-29 deg_mse: 1.212160497432184e-28\n",
      "degree: 7 lowest_mse: 1.5189094125974213e-29 deg_mse: 1.212160497432184e-28\n",
      "degree: 8 lowest_mse: 1.5189094125974213e-29 deg_mse: 1.212160497432184e-28\n",
      "degree: 9 lowest_mse: 1.5189094125974213e-29 deg_mse: 1.212160497432184e-28\n",
      "(1.0003755193866919e-28, 3)  best deg\n"
     ]
    }
   ],
   "source": [
    "print(kfld(data.drop('x4',axis=1), data['x4']),\" best deg\")"
   ]
  },
  {
   "cell_type": "markdown",
   "metadata": {},
   "source": [
    "Лучшая 3я, но разницу не увидеть на графике"
   ]
  },
  {
   "cell_type": "markdown",
   "metadata": {},
   "source": [
    "## Task3"
   ]
  },
  {
   "cell_type": "code",
   "execution_count": 76,
   "metadata": {},
   "outputs": [],
   "source": [
    "def ker(x,mu,sig):\n",
    "    return np.exp((-((x-mu)**2))/(2*sig))"
   ]
  },
  {
   "cell_type": "code",
   "execution_count": 77,
   "metadata": {},
   "outputs": [
    {
     "data": {
      "text/html": [
       "<div>\n",
       "<style scoped>\n",
       "    .dataframe tbody tr th:only-of-type {\n",
       "        vertical-align: middle;\n",
       "    }\n",
       "\n",
       "    .dataframe tbody tr th {\n",
       "        vertical-align: top;\n",
       "    }\n",
       "\n",
       "    .dataframe thead th {\n",
       "        text-align: right;\n",
       "    }\n",
       "</style>\n",
       "<table border=\"1\" class=\"dataframe\">\n",
       "  <thead>\n",
       "    <tr style=\"text-align: right;\">\n",
       "      <th></th>\n",
       "      <th>x1</th>\n",
       "      <th>x2</th>\n",
       "      <th>x3</th>\n",
       "    </tr>\n",
       "  </thead>\n",
       "  <tbody>\n",
       "    <tr>\n",
       "      <th>0</th>\n",
       "      <td>0.000000</td>\n",
       "      <td>3.440000</td>\n",
       "      <td>0.440000</td>\n",
       "    </tr>\n",
       "    <tr>\n",
       "      <th>1</th>\n",
       "      <td>0.040404</td>\n",
       "      <td>0.134949</td>\n",
       "      <td>0.888485</td>\n",
       "    </tr>\n",
       "    <tr>\n",
       "      <th>2</th>\n",
       "      <td>0.080808</td>\n",
       "      <td>0.829899</td>\n",
       "      <td>1.336970</td>\n",
       "    </tr>\n",
       "    <tr>\n",
       "      <th>3</th>\n",
       "      <td>0.121212</td>\n",
       "      <td>1.524848</td>\n",
       "      <td>1.785455</td>\n",
       "    </tr>\n",
       "    <tr>\n",
       "      <th>4</th>\n",
       "      <td>0.161616</td>\n",
       "      <td>2.219798</td>\n",
       "      <td>2.233939</td>\n",
       "    </tr>\n",
       "  </tbody>\n",
       "</table>\n",
       "</div>"
      ],
      "text/plain": [
       "         x1        x2        x3\n",
       "0  0.000000  3.440000  0.440000\n",
       "1  0.040404  0.134949  0.888485\n",
       "2  0.080808  0.829899  1.336970\n",
       "3  0.121212  1.524848  1.785455\n",
       "4  0.161616  2.219798  2.233939"
      ]
     },
     "execution_count": 77,
     "metadata": {},
     "output_type": "execute_result"
    }
   ],
   "source": [
    "target = data['x4']\n",
    "data_tsk3 = data.drop('x4',axis=1)\n",
    "data_tsk3.head()"
   ]
  },
  {
   "cell_type": "code",
   "execution_count": 78,
   "metadata": {},
   "outputs": [
    {
     "data": {
      "text/html": [
       "<div>\n",
       "<style scoped>\n",
       "    .dataframe tbody tr th:only-of-type {\n",
       "        vertical-align: middle;\n",
       "    }\n",
       "\n",
       "    .dataframe tbody tr th {\n",
       "        vertical-align: top;\n",
       "    }\n",
       "\n",
       "    .dataframe thead th {\n",
       "        text-align: right;\n",
       "    }\n",
       "</style>\n",
       "<table border=\"1\" class=\"dataframe\">\n",
       "  <thead>\n",
       "    <tr style=\"text-align: right;\">\n",
       "      <th></th>\n",
       "      <th>x1</th>\n",
       "      <th>x2</th>\n",
       "      <th>x3</th>\n",
       "    </tr>\n",
       "  </thead>\n",
       "  <tbody>\n",
       "    <tr>\n",
       "      <th>0</th>\n",
       "      <td>0.990485</td>\n",
       "      <td>0.044036</td>\n",
       "      <td>0.486966</td>\n",
       "    </tr>\n",
       "    <tr>\n",
       "      <th>1</th>\n",
       "      <td>0.417998</td>\n",
       "      <td>0.038669</td>\n",
       "      <td>0.000002</td>\n",
       "    </tr>\n",
       "    <tr>\n",
       "      <th>2</th>\n",
       "      <td>0.086359</td>\n",
       "      <td>0.001780</td>\n",
       "      <td>0.000009</td>\n",
       "    </tr>\n",
       "    <tr>\n",
       "      <th>3</th>\n",
       "      <td>0.998217</td>\n",
       "      <td>0.069057</td>\n",
       "      <td>0.152338</td>\n",
       "    </tr>\n",
       "    <tr>\n",
       "      <th>4</th>\n",
       "      <td>0.846626</td>\n",
       "      <td>0.532877</td>\n",
       "      <td>0.051297</td>\n",
       "    </tr>\n",
       "  </tbody>\n",
       "</table>\n",
       "</div>"
      ],
      "text/plain": [
       "         x1        x2        x3\n",
       "0  0.990485  0.044036  0.486966\n",
       "1  0.417998  0.038669  0.000002\n",
       "2  0.086359  0.001780  0.000009\n",
       "3  0.998217  0.069057  0.152338\n",
       "4  0.846626  0.532877  0.051297"
      ]
     },
     "execution_count": 78,
     "metadata": {},
     "output_type": "execute_result"
    }
   ],
   "source": [
    "# преобразуем каждый набор x\n",
    "for i in range(len(data_tsk3)):\n",
    "    mu = np.random.uniform(-1,1,data_tsk3.iloc[i].shape)\n",
    "    data_tsk3.iloc[i] = ker(data_tsk3.iloc[i], mu, abs(mu[len(mu)-1] - mu[int((len(mu)-1)/2)] ))\n",
    "\n",
    "data_tsk3.head()"
   ]
  },
  {
   "cell_type": "code",
   "execution_count": 79,
   "metadata": {},
   "outputs": [
    {
     "name": "stdout",
     "output_type": "stream",
     "text": [
      "[ 3.54445797  4.72192875  8.52513699  1.11899719 27.44104338]\n"
     ]
    }
   ],
   "source": [
    "lr = LinearRegression()\n",
    "lr.fit(data_tsk3, target)\n",
    "\n",
    "target_ped = lr.predict(data_tsk3)\n",
    "\n",
    "crs = cross(lr, data_tsk3, target)\n",
    "print(crs[\"test_mse\"])"
   ]
  },
  {
   "cell_type": "markdown",
   "metadata": {},
   "source": [
    "1e25 на графике"
   ]
  },
  {
   "cell_type": "code",
   "execution_count": 80,
   "metadata": {},
   "outputs": [
    {
     "data": {
      "image/png": "[encoded data removed]",
      "text/plain": [
       "<Figure size 640x480 with 1 Axes>"
      ]
     },
     "metadata": {},
     "output_type": "display_data"
    }
   ],
   "source": [
    "draw_bv(lr,data_tsk3,target)"
   ]
  },
  {
   "cell_type": "code",
   "execution_count": 81,
   "metadata": {},
   "outputs": [
    {
     "data": {
      "image/png": "[encoded data removed]",
      "text/plain": [
       "<Figure size 640x480 with 1 Axes>"
      ]
     },
     "metadata": {},
     "output_type": "display_data"
    }
   ],
   "source": [
    "meta = poly_cv(lr, data.drop('x4',axis=1), data['x4'])\n",
    "draw_bv_my(meta)"
   ]
  },
  {
   "cell_type": "code",
   "execution_count": 82,
   "metadata": {},
   "outputs": [
    {
     "name": "stdout",
     "output_type": "stream",
     "text": [
      "degree: 1 lowest_mse: 3.3026540672142772 deg_mse: 3.3026540672142772\n",
      "degree: 2 lowest_mse: 3.3026540672142772 deg_mse: 3.3026540672142772\n",
      "degree: 3 lowest_mse: 2.340676213554192 deg_mse: 15.51458582425715\n",
      "degree: 4 lowest_mse: 2.340676213554192 deg_mse: 15.51458582425715\n",
      "degree: 5 lowest_mse: 2.340676213554192 deg_mse: 15.51458582425715\n",
      "degree: 6 lowest_mse: 2.340676213554192 deg_mse: 15.51458582425715\n",
      "degree: 7 lowest_mse: 2.340676213554192 deg_mse: 15.51458582425715\n",
      "degree: 8 lowest_mse: 2.340676213554192 deg_mse: 15.51458582425715\n",
      "degree: 9 lowest_mse: 2.340676213554192 deg_mse: 15.51458582425715\n"
     ]
    },
    {
     "data": {
      "text/plain": [
       "(3.358867132128958, 3)"
      ]
     },
     "execution_count": 82,
     "metadata": {},
     "output_type": "execute_result"
    }
   ],
   "source": [
    "kfld(data_tsk3, target)"
   ]
  },
  {
   "cell_type": "code",
   "execution_count": 83,
   "metadata": {},
   "outputs": [
    {
     "data": {
      "text/plain": [
       "<seaborn.axisgrid.PairGrid at 0x7fb2985c01d0>"
      ]
     },
     "execution_count": 83,
     "metadata": {},
     "output_type": "execute_result"
    },
    {
     "data": {
      "image/png": "[encoded data removed]",
      "text/plain": [
       "<Figure size 750x750 with 12 Axes>"
      ]
     },
     "metadata": {},
     "output_type": "display_data"
    }
   ],
   "source": [
    "sns.pairplot(data = data_tsk3)"
   ]
  },
  {
   "cell_type": "markdown",
   "metadata": {},
   "source": [
    "Изменили распред на экспоненциальное с равномер ошибками"
   ]
  },
  {
   "cell_type": "markdown",
   "metadata": {},
   "source": [
    "## Task 4"
   ]
  },
  {
   "cell_type": "markdown",
   "metadata": {},
   "source": [
    "### a"
   ]
  },
  {
   "cell_type": "markdown",
   "metadata": {},
   "source": [
    "Найдем функцию правдоподобия для распред Лапласса:\n",
    "\\begin{equation}\n",
    "Laplace(\\alpha,\\mu) = \\frac{\\alpha}{2} e^{-\\alpha |x-\\mu|},\n",
    "\\end{equation}\n",
    "где $\\alpha = b^{-1},\\;\\mu = 0$\\\n",
    "LH:\n",
    "\\begin{equation}\n",
    "LH = (\\frac{\\alpha}{2})^N exp \\sum_{i=1}^{N}({-\\alpha |y^{(i)}-\\theta^T x^{(i)}|})\n",
    "\\end{equation}\n",
    "Логорифмируем.\\\n",
    "И функция которую мы минимизируем получается:\n",
    "\\begin{equation}\n",
    "\\hat{\\theta} =\\text{argmin}_\\theta \\; |y^{(i)}-\\theta^T x^{(i)}|\n",
    "\\end{equation}\n"
   ]
  },
  {
   "cell_type": "markdown",
   "metadata": {},
   "source": [
    "### b"
   ]
  },
  {
   "cell_type": "markdown",
   "metadata": {},
   "source": [
    "Данный поход лучше тем, что мы избегаем очень сильного вклада от больших значений случ величины, следовательно модель мение чувствительна к выбросам. Хужем тем, что модуль не дифф функиция а следовательно нет решения через производную."
   ]
  },
  {
   "cell_type": "markdown",
   "metadata": {},
   "source": [
    "## Task 5"
   ]
  },
  {
   "cell_type": "code",
   "execution_count": 84,
   "metadata": {},
   "outputs": [],
   "source": [
    "from sklearn.base import BaseEstimator\n",
    "\n",
    "class LapRegression(BaseEstimator):\n",
    "    def __init__(self, lr:float, num_iter:int) -> None:\n",
    "        super().__init__()\n",
    "        self.coef = None\n",
    "        self.lr = lr\n",
    "        self.num_iter = num_iter\n",
    "\n",
    "    def fit(self, X, y) -> np.ndarray:\n",
    "        loss = []\n",
    "        if self.coef == None:\n",
    "            self.coef = np.ones(X.shape[1])\n",
    "        for i in range(self.num_iter):\n",
    "            grad = self.__subgrad(X, y, 0.001)\n",
    "            for o in range(len(self.coef)):\n",
    "                self.coef[o] -= grad[o] * self.lr\n",
    "            loss.append(self.__sae(y, self.__predict(X, theta=self.coef)))\n",
    "        return np.array(loss)\n",
    "    \n",
    "    def predict(self, X:pd.DataFrame) -> np.ndarray:\n",
    "        y_pred = []\n",
    "        for i in range(len(X)):\n",
    "            y_pred.append(np.dot(X.iloc[i], self.coef))         \n",
    "        return np.array(y_pred)\n",
    "    \n",
    "    # отдельный предикт чтобы варировать тета\n",
    "    def __predict(self, X:pd.DataFrame, theta) -> np.ndarray:\n",
    "        y_pred = []\n",
    "        for i in range(len(X)):\n",
    "            y_pred.append(np.dot(X.iloc[i], theta))         \n",
    "        return np.array(y_pred)\n",
    "    \n",
    "    # самая простая реализация производной через 1 точку\n",
    "    def __subgrad(self, X, y_true, alpha) -> np.ndarray:\n",
    "        grad = []\n",
    "        theta = self.coef.copy()\n",
    "        for i in range(len(theta)):\n",
    "            theta_hat = theta.copy()\n",
    "            theta_hat[i] += alpha \n",
    "            y = self.__predict(X, theta)\n",
    "            y_hat = self.__predict(X, theta_hat)\n",
    "            grad.append((self.__sae(y_true, y_hat) - self.__sae(y_true, y))/alpha)\n",
    "        return np.array(grad)\n",
    "    \n",
    "    # суммарная ошибка\n",
    "    def __sae(self, y_true, y_pred):\n",
    "        return np.sum(np.abs(y_true-y_pred))\n",
    "    "
   ]
  },
  {
   "cell_type": "code",
   "execution_count": 85,
   "metadata": {},
   "outputs": [
    {
     "data": {
      "text/html": [
       "<div>\n",
       "<style scoped>\n",
       "    .dataframe tbody tr th:only-of-type {\n",
       "        vertical-align: middle;\n",
       "    }\n",
       "\n",
       "    .dataframe tbody tr th {\n",
       "        vertical-align: top;\n",
       "    }\n",
       "\n",
       "    .dataframe thead th {\n",
       "        text-align: right;\n",
       "    }\n",
       "</style>\n",
       "<table border=\"1\" class=\"dataframe\">\n",
       "  <thead>\n",
       "    <tr style=\"text-align: right;\">\n",
       "      <th></th>\n",
       "      <th>x1</th>\n",
       "      <th>x2</th>\n",
       "      <th>x3</th>\n",
       "      <th>x4</th>\n",
       "    </tr>\n",
       "  </thead>\n",
       "  <tbody>\n",
       "    <tr>\n",
       "      <th>0</th>\n",
       "      <td>0.000000</td>\n",
       "      <td>3.440000</td>\n",
       "      <td>0.440000</td>\n",
       "      <td>4.387545</td>\n",
       "    </tr>\n",
       "    <tr>\n",
       "      <th>1</th>\n",
       "      <td>0.040404</td>\n",
       "      <td>0.134949</td>\n",
       "      <td>0.888485</td>\n",
       "      <td>2.679650</td>\n",
       "    </tr>\n",
       "    <tr>\n",
       "      <th>2</th>\n",
       "      <td>0.080808</td>\n",
       "      <td>0.829899</td>\n",
       "      <td>1.336970</td>\n",
       "      <td>2.968490</td>\n",
       "    </tr>\n",
       "    <tr>\n",
       "      <th>3</th>\n",
       "      <td>0.121212</td>\n",
       "      <td>1.524848</td>\n",
       "      <td>1.785455</td>\n",
       "      <td>3.254065</td>\n",
       "    </tr>\n",
       "    <tr>\n",
       "      <th>4</th>\n",
       "      <td>0.161616</td>\n",
       "      <td>2.219798</td>\n",
       "      <td>2.233939</td>\n",
       "      <td>3.536375</td>\n",
       "    </tr>\n",
       "  </tbody>\n",
       "</table>\n",
       "</div>"
      ],
      "text/plain": [
       "         x1        x2        x3        x4\n",
       "0  0.000000  3.440000  0.440000  4.387545\n",
       "1  0.040404  0.134949  0.888485  2.679650\n",
       "2  0.080808  0.829899  1.336970  2.968490\n",
       "3  0.121212  1.524848  1.785455  3.254065\n",
       "4  0.161616  2.219798  2.233939  3.536375"
      ]
     },
     "execution_count": 85,
     "metadata": {},
     "output_type": "execute_result"
    }
   ],
   "source": [
    "data.head()"
   ]
  },
  {
   "cell_type": "code",
   "execution_count": 86,
   "metadata": {},
   "outputs": [],
   "source": [
    "lapreg = LapRegression(lr=0.001, num_iter=100)\n",
    "loss = lapreg.fit(data.drop('x4',axis=1), target)\n"
   ]
  },
  {
   "cell_type": "code",
   "execution_count": 87,
   "metadata": {},
   "outputs": [
    {
     "data": {
      "text/plain": [
       "<Axes: >"
      ]
     },
     "execution_count": 87,
     "metadata": {},
     "output_type": "execute_result"
    },
    {
     "data": {
      "image/png": "[encoded data removed]",
      "text/plain": [
       "<Figure size 640x480 with 1 Axes>"
      ]
     },
     "metadata": {},
     "output_type": "display_data"
    }
   ],
   "source": [
    "sns.lineplot(x = np.arange(0,len(loss),1),y=loss)"
   ]
  },
  {
   "cell_type": "code",
   "execution_count": 88,
   "metadata": {},
   "outputs": [],
   "source": [
    "y_pred = lapreg.predict(data.drop('x4',axis=1))"
   ]
  },
  {
   "cell_type": "code",
   "execution_count": 89,
   "metadata": {},
   "outputs": [
    {
     "name": "stdout",
     "output_type": "stream",
     "text": [
      "1.7092991326833402\n"
     ]
    }
   ],
   "source": [
    "from sklearn.metrics import mean_absolute_error\n",
    "print(mean_absolute_error(target, y_pred))"
   ]
  },
  {
   "cell_type": "code",
   "execution_count": 90,
   "metadata": {},
   "outputs": [
    {
     "name": "stdout",
     "output_type": "stream",
     "text": [
      "[1.39577213 1.21740652 1.78690022 2.27271576 2.09308093 1.88190811\n",
      " 1.17407382 1.3374075  2.28692553 3.99151234]\n"
     ]
    }
   ],
   "source": [
    "cv = cross_validate(lapreg,data.drop('x4',axis=1),target,cv=10,scoring=\"neg_mean_absolute_error\")\n",
    "print(-cv[\"test_score\"])"
   ]
  }
 ],
 "metadata": {
  "kernelspec": {
   "display_name": ".venv",
   "language": "python",
   "name": "python3"
  },
  "language_info": {
   "codemirror_mode": {
    "name": "ipython",
    "version": 3
   },
   "file_extension": ".py",
   "mimetype": "text/x-python",
   "name": "python",
   "nbconvert_exporter": "python",
   "pygments_lexer": "ipython3",
   "version": "3.12.3"
  }
 },
 "nbformat": 4,
 "nbformat_minor": 2
}
